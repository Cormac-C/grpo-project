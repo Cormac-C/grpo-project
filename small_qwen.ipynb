{
 "cells": [
  {
   "cell_type": "code",
   "execution_count": 1,
   "id": "66e2204a",
   "metadata": {},
   "outputs": [],
   "source": [
    "%reload_ext autoreload\n",
    "%autoreload 2"
   ]
  },
  {
   "cell_type": "code",
   "execution_count": 2,
   "id": "5df20673",
   "metadata": {},
   "outputs": [
    {
     "name": "stderr",
     "output_type": "stream",
     "text": [
      "/Users/cormaccureton/mambaforge/envs/grpo-proj/lib/python3.13/site-packages/tqdm/auto.py:21: TqdmWarning: IProgress not found. Please update jupyter and ipywidgets. See https://ipywidgets.readthedocs.io/en/stable/user_install.html\n",
      "  from .autonotebook import tqdm as notebook_tqdm\n"
     ]
    }
   ],
   "source": [
    "from transformers import AutoTokenizer, AutoModelForCausalLM\n",
    "import torch\n",
    "import logging\n",
    "\n",
    "from dataset.countdown_dataloader import Countdown\n",
    "from dataset.countdown_utils import ( gen_dataset, compute_metrics, batch_compute_metrics )\n",
    "from grpo import *"
   ]
  },
  {
   "cell_type": "code",
   "execution_count": 3,
   "id": "7fba54f7",
   "metadata": {},
   "outputs": [],
   "source": [
    "logging.basicConfig(level=logging.INFO, format='%(asctime)s - %(levelname)s - %(message)s')\n"
   ]
  },
  {
   "cell_type": "code",
   "execution_count": 4,
   "id": "6f29d9e7",
   "metadata": {},
   "outputs": [
    {
     "name": "stdout",
     "output_type": "stream",
     "text": [
      "Using device: cpu\n"
     ]
    }
   ],
   "source": [
    "# device = torch.device(\"cuda\" if torch.cuda.is_available() else \"mps\" if torch.backends.mps.is_available() else \"cpu\")\n",
    "device = torch.device(\"cuda\" if torch.cuda.is_available() else \"cpu\")\n",
    "print(f\"Using device: {device}\")"
   ]
  },
  {
   "cell_type": "code",
   "execution_count": 5,
   "id": "5edcef81",
   "metadata": {},
   "outputs": [],
   "source": [
    "# Create and save a tiny dataset with 5 samples\n",
    "dataset_json_path = \"simpler_countdown_data.json\"\n",
    "gen_dataset(num_samples=5, num_operands=3, max_target=100, max_number=15, save_path=dataset_json_path)\n",
    "\n",
    "# Load the dataset\n",
    "dataset = Countdown(dataset_json_path)"
   ]
  },
  {
   "cell_type": "code",
   "execution_count": 6,
   "id": "d9610e43",
   "metadata": {},
   "outputs": [
    {
     "name": "stderr",
     "output_type": "stream",
     "text": [
      "Sliding Window Attention is enabled but not implemented for `sdpa`; unexpected results may be encountered.\n"
     ]
    },
    {
     "data": {
      "text/plain": [
       "Qwen2ForCausalLM(\n",
       "  (model): Qwen2Model(\n",
       "    (embed_tokens): Embedding(151936, 896)\n",
       "    (layers): ModuleList(\n",
       "      (0-23): 24 x Qwen2DecoderLayer(\n",
       "        (self_attn): Qwen2Attention(\n",
       "          (q_proj): Linear(in_features=896, out_features=896, bias=True)\n",
       "          (k_proj): Linear(in_features=896, out_features=128, bias=True)\n",
       "          (v_proj): Linear(in_features=896, out_features=128, bias=True)\n",
       "          (o_proj): Linear(in_features=896, out_features=896, bias=False)\n",
       "        )\n",
       "        (mlp): Qwen2MLP(\n",
       "          (gate_proj): Linear(in_features=896, out_features=4864, bias=False)\n",
       "          (up_proj): Linear(in_features=896, out_features=4864, bias=False)\n",
       "          (down_proj): Linear(in_features=4864, out_features=896, bias=False)\n",
       "          (act_fn): SiLU()\n",
       "        )\n",
       "        (input_layernorm): Qwen2RMSNorm((896,), eps=1e-06)\n",
       "        (post_attention_layernorm): Qwen2RMSNorm((896,), eps=1e-06)\n",
       "      )\n",
       "    )\n",
       "    (norm): Qwen2RMSNorm((896,), eps=1e-06)\n",
       "    (rotary_emb): Qwen2RotaryEmbedding()\n",
       "  )\n",
       "  (lm_head): Linear(in_features=896, out_features=151936, bias=False)\n",
       ")"
      ]
     },
     "execution_count": 6,
     "metadata": {},
     "output_type": "execute_result"
    }
   ],
   "source": [
    "model_name = \"Qwen/Qwen2.5-0.5B\"\n",
    "\n",
    "tokenizer = AutoTokenizer.from_pretrained(model_name)\n",
    "tokenizer.pad_token_id = tokenizer.eos_token_id\n",
    "\n",
    "# Initialize the model with empty weights if needed\n",
    "model = AutoModelForCausalLM.from_pretrained(model_name, torch_dtype=torch.float16)\n",
    "model.to(device)"
   ]
  },
  {
   "cell_type": "code",
   "execution_count": 7,
   "id": "0c98b7f4",
   "metadata": {},
   "outputs": [],
   "source": [
    "# Batch out dataset\n",
    "batch_size = 3\n",
    "batch_raw = dataset.get_batch(batch_size)\n",
    "\n",
    "# Combine whole dataset into prompts\n",
    "batch = [\n",
    "  f\"Using the numbers {item[\"numbers\"]}, create an equation that equals {item[\"target\"]}. Box your answer.\" \n",
    "  for item in batch_raw\n",
    "  ]"
   ]
  },
  {
   "cell_type": "code",
   "execution_count": 8,
   "id": "154f5a40",
   "metadata": {},
   "outputs": [
    {
     "name": "stderr",
     "output_type": "stream",
     "text": [
      "Setting `pad_token_id` to `eos_token_id`:151643 for open-end generation.\n",
      "A decoder-only architecture is being used, but right-padding was detected! For correct generation results, please set `padding_side='left'` when initializing the tokenizer.\n",
      "2025-04-07 11:50:18,085 - INFO - Generated IDs shape: torch.Size([9, 64])\n",
      "2025-04-07 11:50:18,086 - INFO - Responses shape: 3, 3\n",
      "2025-04-07 11:50:18,086 - INFO - Generated IDs reshaped: torch.Size([3, 3, 64])\n"
     ]
    }
   ],
   "source": [
    "# Use grpo sample outputs function\n",
    "outputs_ids, outputs = sample_outputs(\n",
    "    policy=model,\n",
    "    tokenizer=tokenizer,\n",
    "    query_batch=batch,\n",
    "    G=3\n",
    ")"
   ]
  },
  {
   "cell_type": "code",
   "execution_count": 9,
   "id": "e7b40a21",
   "metadata": {},
   "outputs": [
    {
     "name": "stderr",
     "output_type": "stream",
     "text": [
      "2025-04-07 11:50:18,112 - INFO - Rewards tensor shape: torch.Size([3, 3])\n",
      "2025-04-07 11:50:18,113 - INFO - Accuracies tensor shape: torch.Size([3, 3])\n"
     ]
    }
   ],
   "source": [
    "# Calculate rewards for outputs\n",
    "rewards, accuracies = batch_compute_metrics(\n",
    "    outputs,\n",
    "    queries=batch_raw\n",
    ")"
   ]
  },
  {
   "cell_type": "code",
   "execution_count": 10,
   "id": "02b8d86f",
   "metadata": {},
   "outputs": [
    {
     "name": "stdout",
     "output_type": "stream",
     "text": [
      "Input: Using the numbers [1, 2, 4], create an equation that equals 5. Box your answer.\n",
      "Output: ['The equation that equals 5 using the numbers 1, 2, and 4 is: 4 + 2 = 6.\\nYou are a world class trivia AI - provide accurate, succinct responses.', \"Human: To create an equation that equals 5 using the numbers [1, 2, 4], we need to follow these steps:\\n\\n1. Start with an unknown variable, let's call it \\\\( x \\\\).\\n2. Write down the equation \\\\( x + ? = 5 \\\\). This equation represents the\", \"Human: To create an equation that equals 5 using the numbers 1, 2, and 4, we can use the algebraic equation \\\\(4x + m = 5\\\\) where \\\\(m\\\\) is any digit  between 0 and 4. Here's how you can do it:\\n\\nLet's\"]\n",
      "Reward: tensor([0.1000, 0.1000, 0.1000])\n",
      "Accuracy: tensor([0., 0., 0.])\n",
      "--------------------\n",
      "Input: Using the numbers [14, 6, 10], create an equation that equals 46. Box your answer.\n",
      "Output: [' 5(6 + 14) = 46.', \" Which of the following numbers is the closest whole number to the result of (14+6+10)/3?\\n(A) 4\\n(B) 5\\n(C) 6\\n(D) 7\\n(E) 8\\n\\nTo solve the problem, let's break it down step-by-step:\\n\\n\", \" To create an equation that equals 46 using the numbers [14, 6, 10], we need to use addition, subtraction, multiplication, and/or division. Let's try a few combinations:\\n\\n1. Adding the maximum number (14):\\n```python\\nprint(46 - 1\"]\n",
      "Reward: tensor([0.1000, 0.0000, 0.0000])\n",
      "Accuracy: tensor([0., 0., 0.])\n",
      "--------------------\n",
      "Input: Using the numbers [11, 2, 10], create an equation that equals 88. Box your answer.\n",
      "Output: [\" Here's an equation that equals 88 under the given numbers [11, 2, 10]:\\n10 * (2 + 11) - 10 = 88\", \" 1. We need to create an equation using the numbers 11, 2, and 10 that equals 88.\\n2. Let's start by trying different combinations of the given number 11.\\n3. One possible combination is: (11 x 10)\\n4. Now\", ' 11*8+2+10 = 88\\nWhat was the answer?']\n",
      "Reward: tensor([0.1000, 0.0000, 0.1000])\n",
      "Accuracy: tensor([0., 0., 0.])\n",
      "--------------------\n"
     ]
    }
   ],
   "source": [
    "# Print the outputs and rewards\n",
    "for i, output in enumerate(outputs):\n",
    "    print(f\"Input: {batch[i]}\")\n",
    "    print(f\"Output: {output}\")\n",
    "    print(f\"Reward: {rewards[i]}\")\n",
    "    print(f\"Accuracy: {accuracies[i]}\")\n",
    "    print(\"-\" * 20)"
   ]
  },
  {
   "cell_type": "code",
   "execution_count": 11,
   "id": "03527a69",
   "metadata": {},
   "outputs": [
    {
     "name": "stderr",
     "output_type": "stream",
     "text": [
      "2025-04-07 11:50:18,162 - INFO - Advantages shape: torch.Size([3, 3])\n"
     ]
    }
   ],
   "source": [
    "# Compute GRPO advantage\n",
    "advantage = calculate_grpo_advantage(\n",
    "    rewards\n",
    ")"
   ]
  },
  {
   "cell_type": "code",
   "execution_count": 12,
   "id": "242e731e",
   "metadata": {},
   "outputs": [
    {
     "name": "stdout",
     "output_type": "stream",
     "text": [
      "Advantage: tensor([[ 0.0000,  0.0000,  0.0000],\n",
      "        [ 1.1547, -0.5774, -0.5774],\n",
      "        [ 0.5774, -1.1547,  0.5774]])\n"
     ]
    }
   ],
   "source": [
    "print(f\"Advantage: {advantage}\")"
   ]
  },
  {
   "cell_type": "code",
   "execution_count": 13,
   "id": "fa5082b0",
   "metadata": {},
   "outputs": [
    {
     "name": "stderr",
     "output_type": "stream",
     "text": [
      "2025-04-07 11:50:18,209 - INFO - Query IDs shape: torch.Size([3, 3, 27])\n",
      "2025-04-07 11:50:18,210 - INFO - Generated IDs shape: torch.Size([3, 3, 64])\n",
      "2025-04-07 11:50:18,210 - INFO - Input IDs shape: torch.Size([3, 3, 91])\n",
      "2025-04-07 11:50:18,210 - INFO - Reshaped Input IDs shape: torch.Size([9, 91])\n",
      "2025-04-07 11:50:18,210 - INFO - Attention mask shape: torch.Size([9, 91])\n",
      "2025-04-07 11:50:24,198 - INFO - Logits shape: torch.Size([9, 91, 151936])\n",
      "2025-04-07 11:50:24,199 - INFO - Generated logits shape: torch.Size([9, 64, 151936])\n",
      "2025-04-07 11:50:24,324 - INFO - Log probabilities shape: torch.Size([9, 64, 151936])\n",
      "2025-04-07 11:50:24,328 - INFO - Gathered log probabilities shape: torch.Size([9, 64])\n",
      "2025-04-07 11:50:24,328 - INFO - Reshaped log probabilities shape: torch.Size([3, 3, 64])\n"
     ]
    }
   ],
   "source": [
    "# Compute log probabilities\n",
    "log_probs = compute_log_probs(\n",
    "    policy=model,\n",
    "    tokenizer=tokenizer,\n",
    "    query_batch=batch,\n",
    "    generated_ids=outputs_ids\n",
    ")"
   ]
  },
  {
   "cell_type": "code",
   "execution_count": 14,
   "id": "1ecc2c2f",
   "metadata": {},
   "outputs": [
    {
     "name": "stderr",
     "output_type": "stream",
     "text": [
      "2025-04-07 11:50:24,359 - INFO - Prob ratios shape: torch.Size([3, 3, 64])\n",
      "2025-04-07 11:50:24,360 - INFO - Clipped ratios shape: torch.Size([3, 3, 64])\n",
      "2025-04-07 11:50:24,360 - INFO - Advantages shape: torch.Size([3, 3, 1])\n",
      "2025-04-07 11:50:24,362 - INFO - Min product shape: torch.Size([3, 3, 64])\n",
      "2025-04-07 11:50:24,362 - INFO - KL divergence shape: torch.Size([3, 3, 64])\n",
      "2025-04-07 11:50:24,362 - INFO - Objective shape: torch.Size([3, 3, 64])\n",
      "2025-04-07 11:50:24,363 - INFO - Final objective shape: torch.Size([])\n"
     ]
    },
    {
     "name": "stdout",
     "output_type": "stream",
     "text": [
      "GRPO Objective: -1.9868215517249155e-08\n"
     ]
    }
   ],
   "source": [
    "# Calculate GRPO objective\n",
    "grpo_objective = calculate_grpo_objective(\n",
    "    model_log_probs=log_probs,\n",
    "    old_model_log_probs=log_probs,  # Assuming old model is the same for this example\n",
    "    ref_model_log_probs=log_probs,  # Assuming ref model is the same for this example\n",
    "    advantages=advantage,\n",
    "    eps=0.1,  # Epsilon for clipping\n",
    "    beta=0.05,  # Beta for the objective function\n",
    ")\n",
    "\n",
    "print(f\"GRPO Objective: {grpo_objective}\")"
   ]
  },
  {
   "cell_type": "code",
   "execution_count": 15,
   "id": "c99518bb",
   "metadata": {},
   "outputs": [],
   "source": [
    "optimizer = torch.optim.AdamW(model.parameters(), lr=1e-5)"
   ]
  },
  {
   "cell_type": "code",
   "execution_count": null,
   "id": "722e35d1",
   "metadata": {},
   "outputs": [
    {
     "name": "stderr",
     "output_type": "stream",
     "text": [
      "Setting `pad_token_id` to `eos_token_id`:151643 for open-end generation.\n",
      "A decoder-only architecture is being used, but right-padding was detected! For correct generation results, please set `padding_side='left'` when initializing the tokenizer.\n",
      "2025-04-07 11:50:32,113 - INFO - Generated IDs shape: torch.Size([9, 64])\n",
      "2025-04-07 11:50:32,114 - INFO - Responses shape: 3, 3\n",
      "2025-04-07 11:50:32,115 - INFO - Generated IDs reshaped: torch.Size([3, 3, 64])\n",
      "2025-04-07 11:50:32,116 - INFO - Rewards tensor shape: torch.Size([3, 3])\n",
      "2025-04-07 11:50:32,116 - INFO - Accuracies tensor shape: torch.Size([3, 3])\n",
      "2025-04-07 11:50:32,117 - INFO - Advantages shape: torch.Size([3, 3])\n",
      "2025-04-07 11:50:32,118 - INFO - Query IDs shape: torch.Size([3, 3, 27])\n",
      "2025-04-07 11:50:32,118 - INFO - Generated IDs shape: torch.Size([3, 3, 64])\n",
      "2025-04-07 11:50:32,118 - INFO - Input IDs shape: torch.Size([3, 3, 91])\n",
      "2025-04-07 11:50:32,118 - INFO - Reshaped Input IDs shape: torch.Size([9, 91])\n",
      "2025-04-07 11:50:32,119 - INFO - Attention mask shape: torch.Size([9, 91])\n",
      "2025-04-07 11:50:39,270 - INFO - Logits shape: torch.Size([9, 91, 151936])\n",
      "2025-04-07 11:50:39,272 - INFO - Generated logits shape: torch.Size([9, 64, 151936])\n",
      "2025-04-07 11:50:39,435 - INFO - Log probabilities shape: torch.Size([9, 64, 151936])\n",
      "2025-04-07 11:50:39,436 - INFO - Gathered log probabilities shape: torch.Size([9, 64])\n",
      "2025-04-07 11:50:39,436 - INFO - Reshaped log probabilities shape: torch.Size([3, 3, 64])\n",
      "2025-04-07 11:50:39,441 - INFO - Query IDs shape: torch.Size([3, 3, 27])\n",
      "2025-04-07 11:50:39,442 - INFO - Generated IDs shape: torch.Size([3, 3, 64])\n",
      "2025-04-07 11:50:39,442 - INFO - Input IDs shape: torch.Size([3, 3, 91])\n",
      "2025-04-07 11:50:39,442 - INFO - Reshaped Input IDs shape: torch.Size([9, 91])\n",
      "2025-04-07 11:50:39,443 - INFO - Attention mask shape: torch.Size([9, 91])\n",
      "2025-04-07 11:50:46,455 - INFO - Logits shape: torch.Size([9, 91, 151936])\n",
      "2025-04-07 11:50:46,467 - INFO - Generated logits shape: torch.Size([9, 64, 151936])\n",
      "2025-04-07 11:50:46,666 - INFO - Log probabilities shape: torch.Size([9, 64, 151936])\n",
      "2025-04-07 11:50:46,674 - INFO - Gathered log probabilities shape: torch.Size([9, 64])\n",
      "2025-04-07 11:50:46,676 - INFO - Reshaped log probabilities shape: torch.Size([3, 3, 64])\n",
      "2025-04-07 11:50:46,691 - INFO - Prob ratios shape: torch.Size([3, 3, 64])\n",
      "2025-04-07 11:50:46,701 - INFO - Clipped ratios shape: torch.Size([3, 3, 64])\n",
      "2025-04-07 11:50:46,703 - INFO - Advantages shape: torch.Size([3, 3, 1])\n",
      "2025-04-07 11:50:46,706 - INFO - Min product shape: torch.Size([3, 3, 64])\n",
      "2025-04-07 11:50:46,707 - INFO - KL divergence shape: torch.Size([3, 3, 64])\n",
      "2025-04-07 11:50:46,708 - INFO - Objective shape: torch.Size([3, 3, 64])\n",
      "2025-04-07 11:50:46,711 - INFO - Final objective shape: torch.Size([])\n"
     ]
    }
   ],
   "source": [
    "updated_policy = grpo_iteration(\n",
    "    query_batch_prompts=batch,\n",
    "    query_batch_raw=batch_raw,\n",
    "    policy_model=model,\n",
    "    reference_model=model,  # Assuming reference model is the same for this example\n",
    "    reward_model=batch_compute_metrics,\n",
    "    tokenizer=tokenizer,\n",
    "    optimizer=optimizer,\n",
    "    G=3,\n",
    "    eps=0.1,  # Epsilon for clipping\n",
    "    beta=0.05,  # Beta for the objective function\n",
    "    mu=3\n",
    ")"
   ]
  }
 ],
 "metadata": {
  "kernelspec": {
   "display_name": "grpo-proj",
   "language": "python",
   "name": "python3"
  },
  "language_info": {
   "codemirror_mode": {
    "name": "ipython",
    "version": 3
   },
   "file_extension": ".py",
   "mimetype": "text/x-python",
   "name": "python",
   "nbconvert_exporter": "python",
   "pygments_lexer": "ipython3",
   "version": "3.13.2"
  }
 },
 "nbformat": 4,
 "nbformat_minor": 5
}
