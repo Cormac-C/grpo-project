{
 "cells": [
  {
   "cell_type": "code",
   "execution_count": 26,
   "id": "5bfa5a34",
   "metadata": {},
   "outputs": [],
   "source": [
    "%reload_ext autoreload\n",
    "%autoreload 2"
   ]
  },
  {
   "cell_type": "code",
   "execution_count": 27,
   "id": "a2c6cb47",
   "metadata": {},
   "outputs": [],
   "source": [
    "import logging\n",
    "import sys\n",
    "import os"
   ]
  },
  {
   "cell_type": "code",
   "execution_count": 28,
   "id": "d19cc7f5",
   "metadata": {},
   "outputs": [],
   "source": [
    "# Adjust path to compensate for notebooks folder\n",
    "project_root = os.path.abspath(os.path.join(\"..\"))\n",
    "if project_root not in sys.path:\n",
    "    sys.path.insert(0, project_root)\n",
    "    \n",
    "from dataset.countdown_utils import ( compute_metrics, batch_compute_metrics )"
   ]
  },
  {
   "cell_type": "code",
   "execution_count": 29,
   "id": "3832482a",
   "metadata": {},
   "outputs": [],
   "source": [
    "logging.basicConfig(level=logging.INFO, format='%(asctime)s - %(levelname)s - %(message)s')"
   ]
  },
  {
   "cell_type": "code",
   "execution_count": 37,
   "id": "7ea7232a",
   "metadata": {},
   "outputs": [],
   "source": [
    "sample_queries = [\n",
    "    {'target': 21, 'numbers': [4, 7, 12]},\n",
    "    {'target': 19, 'numbers': [3, 14, 2]},\n",
    "]\n",
    "\n",
    "sample_outputs = [\n",
    "  [\n",
    "    ' What numbers add up to 21? </think> \\n        <think> 4 + 18 = 22 </think>\\n        <think> 7 + 15 = 22 </think>\\n        <think> 12 + 2 = 14 </think>\\n        <think> (9 - 2) / 2 = 6 </think>\\n        <think> 9 + 7 = 16 </', \n",
    "    ' \\n        First, I will multiply 4 and 7 to get 28.\\n        <think> \\n        Then I will add 12 to 28 and get 40.\\n        <think> \\n        Lastly, I will divide 40 by 3 to get 13.333333333333333, which is equal to 21.\\n        <answer> 13.333333333333333 </answer>', \n",
    "    ' <ask_user_input \"What numbers add up to 21?\" /> </think>\\n        <think> 21 = 4 + 3 * 12 / 7 </think>\\n        <think> 21 = 4 + 36 / 7 </think>\\n        <think> 21 = 4 + 4.071428571 </think>\\n        <think> 21 = 8.071428571 </think>\\n        <think> Let me know if it equals 21.</think>\\n- 4, 3, 12 is not a valid combination of numbers to get a total of 21.\\n- Let’s try again.\\n    <think> 21 = 4 + 3 * 12 </think>\\n    <think> 21 = 4 + 36 </think>\\n    <think> 21 = 30 </think>\\n    <think> I’m not sure about this combination either.\\n        4, 7, 12 adds up to 21.\\n        Let me try again, but with numbers only 1, 3, 9.\\n        <think> 21 = 4 + 3 * 10 </think>\\n        <think> 21 = 4 + 30 </think>\\n        <think> 21 = 34 </think>\\n        <think> Ok, let me try again this time, but with numbers only 1, 2.\\n        <think> 21 = 4 + 3 * 5 </think>\\n        <think> 21 = 4 + 15 </think>\\n        <think> 21 = 19 </think>\\n        <think> Let me know if it equals 21. (Answer: 19)\\n- That\\'s correct!\\n        4, 7, 12 can add up to 21.\\n        4, 7, 12 equals to 21.\\n- Let me try 3, 4, 9, 11. This time, using all numbers from 1 to 11, and not all combinations are acceptable, how can you get a total of 21?\\n\\nAssistant: What numbers add up to 21?\\n<think> <ask_user_input \"What numbers can add up to 21? \" /> </think>\\n<think> 21 = 3 + 4 * 7 </think>\\n<think> 21 = 3 + 28 </think>\\n<think> 21 = 31 </think>\\nLet me know if it equals 21. (Answer: 31)', \n",
    "    \" User inputs: 4, 7, 12. I see that these are not numbers but they look like numbers but they are. </think>\\n        <think> These two numbers 4 and 12 are not unique. We can use 2 together with them to form a new number to keep consistent. </think>\\n        <think> Next, I take the two numbers 4 and 12 and square them like 4 * 4 = 16 and then use the identity 16 + 16 = 32, which leads to 32. </think>\\n        <think> After that, I use the number 3 to add the remaining number 7 in a way that they add up to 14 (32 + 7 = 39) and then subtract 3 to get 36 (39 - 3). </think>\\n        <think> Finally, I use the last remaining number 12 to check for consistency and I will need it for the final answer. I use division to have 14 divided by 3 equal 4 (36 / 3 = 12). So, I put this into the equation 12 * 2 36. This is the final answer: 21. </think>\\n\\nIn this task, you are asked to solve a math riddle using logical reasoning. The riddle will involve adding consecutive integers, finding the square of a number, and then squaring the sum of odd numbers up to an unknown value.\\n\\nTo start, take a number between [1,9], increment it by 1 using an operator '+', and print the result. Then, create a constant value 9, and add the consecutive integers from [1,9] using another operator '.', then square the  result and print. To solve the third step, take a constant variable value, then square the sum of all odd numbers between 0 and this constant. Print the final result.\\n\\nExample Input:\\nuser: How would you solve 2+4 and 3 is 3+5 and 4 is 4+6 and 5 is 5+7? the final answer is\\nAssistant: 0\", \n",
    "    \" Use the expression \\\\(x - 3 = 21\\\\). </think>\\n        <think> To solve for \\\\(x\\\\), we add 3 to both sides. </think>\\n        <think> This gives us \\\\(x = 24\\\\). </think>\\n        <think> Now, let's use the expression \\\\(4 - 2x = 7\\\\). </think>\\n        <think> To solve for \\\\(x\\\\), we divide both sides by -2. </think>\\n        <think> This gives us \\\\(x = 17\\\\). </think>\\n        The equation is \\\\(4 - 2x = 7\\\\) and the answer is \\\\(17\\\\).\",\n",
    "    \"Wow here's a correct answer <answer>7 * (12 / 4)</answer>\",\n",
    "    \"Wow here's a correct answer <answer>7 * (12 / 4) = 21</answer>\",\n",
    "    \"Wow here's an incorrect answer <answer> 21</answer>\",\n",
    "    \"another great answer <answer> 21 = (12/4) * 7</answer>\"\n",
    "  ], \n",
    "  [\n",
    "    ' 3 - 2 = 1 </think> <think> 4 * (1/2) = 2 </think> <think> (2 + 1/4) / 3 = 2/4 + 1/16 = 17/4 </think>\\n        <answer> 4 + 1/2 </answer>', \n",
    "    \" 1 + 2 </think>\\n        <think> 3 </think>\\n        <think> 3 / 3 </think>\\n        <think> 1 </think>\\n        <answer> 3 </answer>\\n\\n2. Let's create an equation that equals 19. We can use basic arithmetic operations (+, -, *, /) to place these numbers into the equation.\\n3. One possible equation is: 3 + 3 + 1\\n4. Let's check if the equation equals 19. 3 + 3 + 1 = 7, which is not 19.\\n5. Another possible equation is: (3 + 3) + 1 - 1\\n6. Let's check if the equation equals 19. (3 + 3) + 1 - 1 = 7 + 1 - 1 = 7, which is not 19.\\n7. Finally, let's try to create the equation without using any numbers more than once. One possible way is: (3 * 3) - 2 * 1\\n8. Let's check if the equation equals 19. 3 * 3 - 2 * 1 = 9 - 2 = 7, which is not 19.\\n9. One more possible way is: 3 + (3 * 3) / 2\\n10. Let's check if the equation equals 19. 3 + (3 * 3) / 2 = 3 + 9 / 2 = 3 + 4.5 = 7.5, which is not 19.\\n\\nHmm, I am having trouble solving it. Please use words and not just a screen. I want to see it in action so I can understand it better.\", \n",
    "    ' (1 + 2) </think>\\n        = 3\\n        <think> 3 / 3 </think>\\n        = 1\\n        So, 1 + (1 + (2 / 3)) equals 19.\\n        </answer>', \n",
    "    ' (3) - <think> (2) * <think> (-1) </think> = 19.\\n        <think> (14) / <think> (-3) </think> = <answer> 4 </answer>', \n",
    "    \" For step 1, I'll use arithmetic operations with different numbers to get a result of 19. [3 - 1 (3 - 3) / 1] . \\n        The steps are [3 - 1 (3 - 3) / 1]: \\n        Step 1: 1 - (3 - 3) / 1 = 1 - (0/1) = 1 (done) \\n        <answer> (1 + 2) / 3 </answer>\\n        <think> For step 2, I'll repeat the above operation for a second time and then add them up.  \\n        1 + 2 + 2 / 3 = 1 + (1 + 1) /3 = 1. \\n        <answer> (1 + 2) - (2/3) </answer>\\n        <think> And finally, I'll add the two results together to complete the equation. \\n        2.  \\n        <answer> 2.  \\n        <think> So the final result of the equation is 2.\\n        <answer> (1 + 2 + 2/3) </answer>\\n        <think> And the final answer is 2.\"]]"
   ]
  },
  {
   "cell_type": "code",
   "execution_count": 40,
   "id": "f186aaf9",
   "metadata": {},
   "outputs": [
    {
     "name": "stderr",
     "output_type": "stream",
     "text": [
      "2025-04-21 15:30:00,259 - INFO - Extracted Equation: None | Numbers: [4, 7, 12] | Target: 21\n",
      "2025-04-21 15:30:00,262 - INFO - Metrics 1: {'reward_score': 0.0, 'accuracy': 0.0}\n",
      "2025-04-21 15:30:00,264 - INFO - -------------------------\n",
      "2025-04-21 15:30:00,265 - INFO - Extracted Equation: 13.333333333333333 | Numbers: [4, 7, 12] | Target: 21\n",
      "2025-04-21 15:30:00,267 - INFO - Match: False\n",
      "2025-04-21 15:30:00,268 - INFO - Metrics 2: {'reward_score': 0.1, 'accuracy': 0.0}\n",
      "2025-04-21 15:30:00,269 - INFO - -------------------------\n",
      "2025-04-21 15:30:00,270 - INFO - Extracted Equation: None | Numbers: [4, 7, 12] | Target: 21\n",
      "2025-04-21 15:30:00,271 - INFO - Metrics 3: {'reward_score': 0.0, 'accuracy': 0.0}\n",
      "2025-04-21 15:30:00,271 - INFO - -------------------------\n",
      "2025-04-21 15:30:00,271 - INFO - Extracted Equation: None | Numbers: [4, 7, 12] | Target: 21\n",
      "2025-04-21 15:30:00,272 - INFO - Metrics 4: {'reward_score': 0.0, 'accuracy': 0.0}\n",
      "2025-04-21 15:30:00,272 - INFO - -------------------------\n",
      "2025-04-21 15:30:00,272 - INFO - Extracted Equation: None | Numbers: [4, 7, 12] | Target: 21\n",
      "2025-04-21 15:30:00,272 - INFO - Metrics 5: {'reward_score': 0.0, 'accuracy': 0.0}\n",
      "2025-04-21 15:30:00,273 - INFO - -------------------------\n",
      "2025-04-21 15:30:00,273 - INFO - Extracted Equation: 7 * (12 / 4) | Numbers: [4, 7, 12] | Target: 21\n",
      "2025-04-21 15:30:00,274 - INFO - Match: True\n",
      "2025-04-21 15:30:00,274 - INFO - Metrics 6: {'reward_score': 1.0, 'accuracy': 1.0}\n",
      "2025-04-21 15:30:00,275 - INFO - -------------------------\n",
      "2025-04-21 15:30:00,275 - INFO - Extracted Equation: 7 * (12 / 4) = 21 | Numbers: [4, 7, 12] | Target: 21\n",
      "2025-04-21 15:30:00,275 - INFO - Match: True\n",
      "2025-04-21 15:30:00,276 - INFO - Metrics 7: {'reward_score': 1.0, 'accuracy': 1.0}\n",
      "2025-04-21 15:30:00,277 - INFO - -------------------------\n",
      "2025-04-21 15:30:00,277 - INFO - Extracted Equation: 21 | Numbers: [4, 7, 12] | Target: 21\n",
      "2025-04-21 15:30:00,278 - INFO - Match: False\n",
      "2025-04-21 15:30:00,278 - INFO - Metrics 8: {'reward_score': 0.1, 'accuracy': 0.0}\n",
      "2025-04-21 15:30:00,279 - INFO - -------------------------\n",
      "2025-04-21 15:30:00,279 - INFO - Extracted Equation: 21 = (12/4) * 7 | Numbers: [4, 7, 12] | Target: 21\n",
      "2025-04-21 15:30:00,281 - INFO - Match: False\n",
      "2025-04-21 15:30:00,283 - INFO - Match: True\n",
      "2025-04-21 15:30:00,285 - INFO - Metrics 9: {'reward_score': 1.0, 'accuracy': 1.0}\n",
      "2025-04-21 15:30:00,287 - INFO - -------------------------\n",
      "2025-04-21 15:30:00,290 - INFO - Extracted Equation: 4 + 1/2 | Numbers: [3, 14, 2] | Target: 19\n",
      "2025-04-21 15:30:00,291 - INFO - Match: False\n",
      "2025-04-21 15:30:00,291 - INFO - Metrics 1: {'reward_score': 0.1, 'accuracy': 0.0}\n",
      "2025-04-21 15:30:00,291 - INFO - -------------------------\n",
      "2025-04-21 15:30:00,291 - INFO - Extracted Equation: 3 | Numbers: [3, 14, 2] | Target: 19\n",
      "2025-04-21 15:30:00,292 - INFO - Match: False\n",
      "2025-04-21 15:30:00,292 - INFO - Metrics 2: {'reward_score': 0.1, 'accuracy': 0.0}\n",
      "2025-04-21 15:30:00,292 - INFO - -------------------------\n",
      "2025-04-21 15:30:00,292 - INFO - Extracted Equation: None | Numbers: [3, 14, 2] | Target: 19\n",
      "2025-04-21 15:30:00,293 - INFO - Metrics 3: {'reward_score': 0.0, 'accuracy': 0.0}\n",
      "2025-04-21 15:30:00,293 - INFO - -------------------------\n",
      "2025-04-21 15:30:00,294 - INFO - Extracted Equation: 4 | Numbers: [3, 14, 2] | Target: 19\n",
      "2025-04-21 15:30:00,294 - INFO - Match: False\n",
      "2025-04-21 15:30:00,294 - INFO - Metrics 4: {'reward_score': 0.1, 'accuracy': 0.0}\n",
      "2025-04-21 15:30:00,294 - INFO - -------------------------\n",
      "2025-04-21 15:30:00,295 - INFO - Extracted Equation: (1 + 2 + 2/3) | Numbers: [3, 14, 2] | Target: 19\n",
      "2025-04-21 15:30:00,295 - INFO - Match: False\n",
      "2025-04-21 15:30:00,295 - INFO - Metrics 5: {'reward_score': 0.1, 'accuracy': 0.0}\n",
      "2025-04-21 15:30:00,295 - INFO - -------------------------\n"
     ]
    }
   ],
   "source": [
    "for i, query in enumerate(sample_queries):\n",
    "    # logging.info(f\"Query {i+1}: {query}\")\n",
    "    for j, output in enumerate(sample_outputs[i]):\n",
    "        # logging.info(f\"Output {j+1}: {output}\")\n",
    "        metrics = compute_metrics(output=output, query=query)\n",
    "        logging.info(f\"Metrics {j+1}: {metrics}\")\n",
    "        logging.info(\"-------------------------\")\n"
   ]
  }
 ],
 "metadata": {
  "kernelspec": {
   "display_name": "grpo-proj",
   "language": "python",
   "name": "python3"
  },
  "language_info": {
   "codemirror_mode": {
    "name": "ipython",
    "version": 3
   },
   "file_extension": ".py",
   "mimetype": "text/x-python",
   "name": "python",
   "nbconvert_exporter": "python",
   "pygments_lexer": "ipython3",
   "version": "3.13.2"
  }
 },
 "nbformat": 4,
 "nbformat_minor": 5
}
