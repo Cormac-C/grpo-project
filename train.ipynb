{
 "cells": [
  {
   "cell_type": "markdown",
   "metadata": {},
   "source": [
    "# Setup"
   ]
  },
  {
   "cell_type": "markdown",
   "metadata": {},
   "source": [
    "## Hyperparameters + Data Tracking"
   ]
  },
  {
   "cell_type": "code",
   "execution_count": 1,
   "metadata": {},
   "outputs": [
    {
     "name": "stderr",
     "output_type": "stream",
     "text": [
      "\u001b[34m\u001b[1mwandb\u001b[0m: Using wandb-core as the SDK backend.  Please refer to https://wandb.me/wandb-core for more information.\n",
      "\u001b[34m\u001b[1mwandb\u001b[0m: Currently logged in as: \u001b[33mcormaccureton\u001b[0m (\u001b[33mcormaccureton-mcgill-university\u001b[0m) to \u001b[32mhttps://api.wandb.ai\u001b[0m. Use \u001b[1m`wandb login --relogin`\u001b[0m to force relogin\n"
     ]
    },
    {
     "data": {
      "text/html": [
       "Tracking run with wandb version 0.19.8"
      ],
      "text/plain": [
       "<IPython.core.display.HTML object>"
      ]
     },
     "metadata": {},
     "output_type": "display_data"
    },
    {
     "data": {
      "text/html": [
       "Run data is saved locally in <code>/Users/cormaccureton/grpo-project/wandb/run-20250413_111128-17lgyqv7</code>"
      ],
      "text/plain": [
       "<IPython.core.display.HTML object>"
      ]
     },
     "metadata": {},
     "output_type": "display_data"
    },
    {
     "data": {
      "text/html": [
       "Syncing run <strong><a href='https://wandb.ai/cormaccureton-mcgill-university/qwen-finetuning/runs/17lgyqv7' target=\"_blank\">grpo-finetune-run</a></strong> to <a href='https://wandb.ai/cormaccureton-mcgill-university/qwen-finetuning' target=\"_blank\">Weights & Biases</a> (<a href='https://wandb.me/developer-guide' target=\"_blank\">docs</a>)<br>"
      ],
      "text/plain": [
       "<IPython.core.display.HTML object>"
      ]
     },
     "metadata": {},
     "output_type": "display_data"
    },
    {
     "data": {
      "text/html": [
       " View project at <a href='https://wandb.ai/cormaccureton-mcgill-university/qwen-finetuning' target=\"_blank\">https://wandb.ai/cormaccureton-mcgill-university/qwen-finetuning</a>"
      ],
      "text/plain": [
       "<IPython.core.display.HTML object>"
      ]
     },
     "metadata": {},
     "output_type": "display_data"
    },
    {
     "data": {
      "text/html": [
       " View run at <a href='https://wandb.ai/cormaccureton-mcgill-university/qwen-finetuning/runs/17lgyqv7' target=\"_blank\">https://wandb.ai/cormaccureton-mcgill-university/qwen-finetuning/runs/17lgyqv7</a>"
      ],
      "text/plain": [
       "<IPython.core.display.HTML object>"
      ]
     },
     "metadata": {},
     "output_type": "display_data"
    },
    {
     "data": {
      "text/html": [
       "<button onClick=\"this.nextSibling.style.display='block';this.style.display='none';\">Display W&B run</button><iframe src='https://wandb.ai/cormaccureton-mcgill-university/qwen-finetuning/runs/17lgyqv7?jupyter=true' style='border:none;width:100%;height:420px;display:none;'></iframe>"
      ],
      "text/plain": [
       "<wandb.sdk.wandb_run.Run at 0x127818ad0>"
      ]
     },
     "execution_count": 1,
     "metadata": {},
     "output_type": "execute_result"
    }
   ],
   "source": [
    "################# HYPERPARAMETERS #########################\n",
    "model_name       = \"Qwen/Qwen2.5-1.5B-Instruct\"\n",
    "\n",
    "#Optimizer\n",
    "lr               = 1e-5\n",
    "weight_decay     = 0.01\n",
    "\n",
    "# Training + Dataset\n",
    "num_epochs       = 10\n",
    "batch_size       = 10\n",
    "validation_split = 0.3\n",
    "max_length       = 512\n",
    "# NOTE: Vocab size of model is 151936\n",
    "\n",
    "# GRPO\n",
    "num_samples      = 5\n",
    "eps              = -1 # TODO: Update values\n",
    "beta             = -1 # TODO: Update values\n",
    "mu               = -1 # TODO: Update values\n",
    "################# HYPERPARAMETERS #########################\n",
    "\n",
    "# Initialize wandb\n",
    "import wandb\n",
    "wandb.init(project=\"qwen-finetuning\", name=\"grpo-finetune-run\", config={\n",
    "    \"learning_rate\": lr,\n",
    "    \"batch_size\": batch_size,\n",
    "    \"epochs\": num_epochs,\n",
    "    \"model_name\": model_name\n",
    "})"
   ]
  },
  {
   "cell_type": "markdown",
   "metadata": {},
   "source": [
    "## Generating Dataset and Dataloaders"
   ]
  },
  {
   "cell_type": "code",
   "execution_count": null,
   "metadata": {},
   "outputs": [
    {
     "name": "stderr",
     "output_type": "stream",
     "text": [
      "/Users/cormaccureton/mambaforge/envs/grpo-proj/lib/python3.13/site-packages/tqdm/auto.py:21: TqdmWarning: IProgress not found. Please update jupyter and ipywidgets. See https://ipywidgets.readthedocs.io/en/stable/user_install.html\n",
      "  from .autonotebook import tqdm as notebook_tqdm\n"
     ]
    }
   ],
   "source": [
    "import torch, tqdm\n",
    "from transformers import AutoModelForCausalLM, AutoTokenizer\n",
    "from dataset.countdown_dataloader import Countdown\n",
    "from dataset.countdown_dataloader import Countdown\n",
    "from grpo import *\n",
    "from torch.utils.data import Dataset, DataLoader\n",
    "from dataset.countdown_utils import (\n",
    "    gen_dataset,\n",
    "    compute_metrics\n",
    ")\n",
    "\n",
    "# Creates the dataset and saves it into a json file\n",
    "dataset_json_path = \"data/countdown_data.json\"\n",
    "_ = gen_dataset(num_samples=100, save_path=dataset_json_path, num_operands = 4)\n",
    "\n",
    "countdown_data = Countdown(json_path=dataset_json_path)\n",
    "\n",
    "# Generates the prompts and the training and validation dataloaders\n",
    "def create_prompts(queries: dict, model_type: str = 'base'):\n",
    "    prompts = []\n",
    "\n",
    "    if model_type == 'base':\n",
    "        preamble = \"\"\"A conversation between User and Assistant. The user asks a question, and the Assistant solves it. The assistant first thinks about the reasoning process in the mind and then provides the user with the answer.\n",
    "        User: Using the numbers {}, create an equation that equals {}. You can use basic arithmetic operations (+, -, *, /) and each number can only be used once. Show your work in <think> </think> tags. And return the final answer in <answer> </answer> tags, for example <answer> (1 + 2) / 3 </answer>.\n",
    "        Assistant: Let me solve this step by step.\n",
    "        <think>\"\"\"\n",
    "    else:\n",
    "        preamble = \"\"\"<|im_start|>system\\nYou are a helpful assistant. You first think about the reasoning process in the mind and then provides the user with the answer.<|im_end|>\\n<|im_start|>user\\n Using the numbers {}, create an equation that equals {}. You can use basic arithmetic operations (+, -, *, /) and each number can only be used once. Show your work in <think> </think> tags. And return the final answer in <answer> </answer> tags, for example <answer> (1 + 2) / 3 </answer>.<|im_end|>\\n<|im_start|>assistant\\nLet me solve this step by step.\\n<think>\"\"\"\n",
    "\n",
    "    for query in queries:\n",
    "        prompts.append(preamble.format(query['numbers'], query['target']))\n",
    "    return prompts\n",
    "\n",
    "prompts = create_prompts(countdown_data)\n",
    "\n",
    "split_size     = int(validation_split*len(prompts))\n",
    "training_set   = prompts[:-split_size]\n",
    "validation_set = prompts[-split_size:]\n",
    "\n",
    "class tokenized_prompt_dataset(Dataset):\n",
    "    def __init__(self, prompts, tokenizer, max_length=256):\n",
    "        self.prompts    = prompts\n",
    "        self.tokenizer  = tokenizer\n",
    "        self.max_length = max_length\n",
    "\n",
    "    def __len__(self):\n",
    "        return len(self.prompts)\n",
    "\n",
    "    def __getitem__(self, idx):\n",
    "        prompt = self.prompts[idx]\n",
    "        inputs = self.tokenizer(prompt, return_tensors=\"pt\", padding=\"max_length\", truncation=True, max_length=self.max_length)\n",
    "        return {key: value.squeeze(0) for key, value in inputs.items()}  # Remove batch dim\n",
    "\n",
    "# Create dataset and dataloaders\n",
    "tokenizer                = AutoTokenizer.from_pretrained(model_name)\n",
    "tokenized_training_set   = tokenized_prompt_dataset(training_set, tokenizer, max_length = max_length)\n",
    "training_dataloader      = DataLoader(tokenized_training_set, batch_size=batch_size, shuffle=True)\n",
    "\n",
    "tokenized_validation_set = tokenized_prompt_dataset(validation_set, tokenizer, max_length = max_length)\n",
    "validation_dataloader    = DataLoader(tokenized_validation_set, batch_size=batch_size, shuffle=False)\n"
   ]
  },
  {
   "cell_type": "markdown",
   "metadata": {},
   "source": [
    "# Training"
   ]
  },
  {
   "cell_type": "code",
   "execution_count": null,
   "metadata": {},
   "outputs": [],
   "source": [
    "model = AutoModelForCausalLM.from_pretrained(model_name, torch_dtype=torch.float32).cuda()\n",
    "\n",
    "# Set pad_token_id explicitly if needed\n",
    "tokenizer.pad_token_id = tokenizer.eos_token_id\n",
    "\n",
    "# Set up optimizer\n",
    "optimizer = torch.optim.AdamW(model.parameters(), lr=lr, weight_decay=weight_decay)\n",
    "\n",
    "for epoch_iteration in tqdm(range(1, num_epochs+1), desc=\"Training\", total=num_epochs):\n",
    "    for batch in training_dataloader:\n",
    "        model = grpo_iteration(batch, model, compute_metrics, optimizer, num_samples, eps, beta, mu)\n",
    "\n",
    "        # wandb.log({\"epoch\": epoch, \"Train Accuracy\": avg_train_acc})\n",
    "\n",
    "    with torch.no_grad():\n",
    "        for batch in validation_dataloader:\n",
    "            outputs             = sample_outputs(model, batch, num_samples)\n",
    "            rewards, accuracies = calculate_rewards_and_accuracies(batch, outputs, compute_metrics)\n",
    "            wandb.log({\"Rewards\": torch.mean(rewards), \"Accuracy\": torch.mean(accuracies)})\n",
    "            print(f\"Epoch {epoch_iteration}: Accuracy: {torch.mean(accuracies)}\")\n",
    "\n",
    "wandb.finish()\n"
   ]
  }
 ],
 "metadata": {
  "kernelspec": {
   "display_name": "grpo-proj",
   "language": "python",
   "name": "python3"
  },
  "language_info": {
   "codemirror_mode": {
    "name": "ipython",
    "version": 3
   },
   "file_extension": ".py",
   "mimetype": "text/x-python",
   "name": "python",
   "nbconvert_exporter": "python",
   "pygments_lexer": "ipython3",
   "version": "3.13.2"
  }
 },
 "nbformat": 4,
 "nbformat_minor": 2
}
